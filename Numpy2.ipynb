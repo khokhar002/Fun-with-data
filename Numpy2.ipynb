{
  "nbformat": 4,
  "nbformat_minor": 0,
  "metadata": {
    "colab": {
      "provenance": [],
      "authorship_tag": "ABX9TyNOrJmBsB6wZ0CEHST3QvEA",
      "include_colab_link": true
    },
    "kernelspec": {
      "name": "python3",
      "display_name": "Python 3"
    },
    "language_info": {
      "name": "python"
    }
  },
  "cells": [
    {
      "cell_type": "markdown",
      "metadata": {
        "id": "view-in-github",
        "colab_type": "text"
      },
      "source": [
        "<a href=\"https://colab.research.google.com/github/khokhar002/Fun-with-data/blob/main/Numpy2.ipynb\" target=\"_parent\"><img src=\"https://colab.research.google.com/assets/colab-badge.svg\" alt=\"Open In Colab\"/></a>"
      ]
    },
    {
      "cell_type": "code",
      "execution_count": null,
      "metadata": {
        "colab": {
          "base_uri": "https://localhost:8080/"
        },
        "id": "IEtxERYaAe_R",
        "outputId": "cc19482e-596e-4b3b-ad1d-28eefc684250"
      },
      "outputs": [
        {
          "output_type": "stream",
          "name": "stdout",
          "text": [
            "[12 12  9  9  9  2  1 14 12 10 10  1]\n",
            "-------------------------\n"
          ]
        }
      ],
      "source": [
        "import numpy as np\n",
        "a=np.random.randint(1,15,12)\n",
        "print(a)\n",
        "print('-------------------------')"
      ]
    },
    {
      "cell_type": "code",
      "source": [
        "b=a.shape\n",
        "print(b)"
      ],
      "metadata": {
        "colab": {
          "base_uri": "https://localhost:8080/"
        },
        "id": "0P1RJ_hYA6zS",
        "outputId": "68c19ec8-d616-40bb-aae4-cb17b9024bfd"
      },
      "execution_count": null,
      "outputs": [
        {
          "output_type": "stream",
          "name": "stdout",
          "text": [
            "(12,)\n"
          ]
        }
      ]
    },
    {
      "cell_type": "code",
      "source": [
        "print('---------------------------')\n",
        "a=a.reshape(3,4)\n",
        "print(a)\n",
        "print('---------------------------')"
      ],
      "metadata": {
        "colab": {
          "base_uri": "https://localhost:8080/"
        },
        "id": "d2cvyi60BB_X",
        "outputId": "49a3bae5-02f5-4959-d1c6-cf8351050378"
      },
      "execution_count": null,
      "outputs": [
        {
          "output_type": "stream",
          "name": "stdout",
          "text": [
            "---------------------------\n",
            "[[12 12  9  9]\n",
            " [ 9  2  1 14]\n",
            " [12 10 10  1]]\n",
            "---------------------------\n"
          ]
        }
      ]
    },
    {
      "cell_type": "code",
      "source": [
        "a=a.reshape(6,2)\n",
        "print(a)\n",
        "print('---------------------------')\n",
        "a=a.reshape(2,6)\n",
        "print(a)\n",
        "print('---------------------------')\n",
        "print('---------------------------')\n",
        "a=a.reshape(1,12)\n",
        "print(a)\n",
        "print('---------------------------')\n",
        "print(a.ndim)\n",
        "a=a.reshape(12)\n",
        "print(a)\n",
        "print('---------------------------')"
      ],
      "metadata": {
        "colab": {
          "base_uri": "https://localhost:8080/"
        },
        "id": "8EJwv0SQBSXo",
        "outputId": "e634ea67-60ab-412a-aef7-85ab7878dadb"
      },
      "execution_count": null,
      "outputs": [
        {
          "output_type": "stream",
          "name": "stdout",
          "text": [
            "[[12 12]\n",
            " [ 9  9]\n",
            " [ 9  2]\n",
            " [ 1 14]\n",
            " [12 10]\n",
            " [10  1]]\n",
            "---------------------------\n",
            "[[12 12  9  9  9  2]\n",
            " [ 1 14 12 10 10  1]]\n",
            "---------------------------\n",
            "---------------------------\n",
            "[[12 12  9  9  9  2  1 14 12 10 10  1]]\n",
            "---------------------------\n",
            "2\n",
            "[12 12  9  9  9  2  1 14 12 10 10  1]\n",
            "---------------------------\n"
          ]
        }
      ]
    },
    {
      "cell_type": "code",
      "source": [
        "a=a.reshape(2,2,3)\n",
        "print(a)\n",
        "print('-------------------------')\n",
        "print(a.ndim)\n",
        "print('-------------------------')"
      ],
      "metadata": {
        "colab": {
          "base_uri": "https://localhost:8080/"
        },
        "id": "q4XriOxoB_MK",
        "outputId": "908f4a53-d17e-4e92-c7cf-d23ca2c45a9a"
      },
      "execution_count": null,
      "outputs": [
        {
          "output_type": "stream",
          "name": "stdout",
          "text": [
            "[[[12 12  9]\n",
            "  [ 9  9  2]]\n",
            "\n",
            " [[ 1 14 12]\n",
            "  [10 10  1]]]\n",
            "-------------------------\n",
            "3\n",
            "-------------------------\n"
          ]
        }
      ]
    },
    {
      "cell_type": "code",
      "source": [
        "a=a.reshape(4,-1)\n",
        "print(a)\n",
        "print('-----------------------')\n",
        "a=a.reshape(6,-1)\n",
        "print(a)\n",
        "print('-----------------------')\n",
        "a=a.reshape(2,-1)\n",
        "print(a)\n",
        "print('-----------------------')"
      ],
      "metadata": {
        "colab": {
          "base_uri": "https://localhost:8080/"
        },
        "id": "Vwikpo_KCjy7",
        "outputId": "4110c2c4-8c4b-42bc-e70d-fef3984f09d8"
      },
      "execution_count": null,
      "outputs": [
        {
          "output_type": "stream",
          "name": "stdout",
          "text": [
            "[[12 12  9]\n",
            " [ 9  9  2]\n",
            " [ 1 14 12]\n",
            " [10 10  1]]\n",
            "-----------------------\n",
            "[[12 12]\n",
            " [ 9  9]\n",
            " [ 9  2]\n",
            " [ 1 14]\n",
            " [12 10]\n",
            " [10  1]]\n",
            "-----------------------\n",
            "[[12 12  9  9  9  2]\n",
            " [ 1 14 12 10 10  1]]\n",
            "-----------------------\n"
          ]
        }
      ]
    },
    {
      "cell_type": "code",
      "source": [
        "a=a.reshape(-1,4)\n",
        "print(a)\n",
        "print('---------------------')\n",
        "a=a.reshape(-1,2)\n",
        "print(a)\n",
        "print('---------------------')\n",
        "a=a.reshape(-1,3)\n",
        "print(a)"
      ],
      "metadata": {
        "colab": {
          "base_uri": "https://localhost:8080/"
        },
        "id": "0M8aAQb7DN2U",
        "outputId": "6a0a7973-159b-4199-a94f-ecb3bd255902"
      },
      "execution_count": null,
      "outputs": [
        {
          "output_type": "stream",
          "name": "stdout",
          "text": [
            "[[12 12  9  9]\n",
            " [ 9  2  1 14]\n",
            " [12 10 10  1]]\n",
            "---------------------\n",
            "[[12 12]\n",
            " [ 9  9]\n",
            " [ 9  2]\n",
            " [ 1 14]\n",
            " [12 10]\n",
            " [10  1]]\n",
            "---------------------\n",
            "[[12 12  9]\n",
            " [ 9  9  2]\n",
            " [ 1 14 12]\n",
            " [10 10  1]]\n"
          ]
        }
      ]
    },
    {
      "cell_type": "code",
      "source": [],
      "metadata": {
        "id": "JM8c_2XkFMd_"
      },
      "execution_count": null,
      "outputs": []
    }
  ]
}